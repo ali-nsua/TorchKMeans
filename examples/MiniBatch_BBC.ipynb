{
 "cells": [
  {
   "cell_type": "markdown",
   "metadata": {},
   "source": [
    "<h3>1. Import dependencies</h3>"
   ]
  },
  {
   "cell_type": "code",
   "execution_count": 1,
   "metadata": {},
   "outputs": [],
   "source": [
    "import pandas as pd\n",
    "import numpy as np\n",
    "import torch\n",
    "from torch.utils.data import DataLoader\n",
    "import time\n",
    "\n",
    "from sklearn.preprocessing import LabelEncoder\n",
    "from sklearn.metrics import silhouette_score\n",
    "from utils.scores import purity_score as purity\n",
    "\n",
    "from src import KMeans, MiniBatchKMeans, KMeansDataset\n",
    "\n",
    "from sklearn.feature_extraction.text import TfidfVectorizer"
   ]
  },
  {
   "cell_type": "markdown",
   "metadata": {},
   "source": [
    "<h3>2. Import data</h3>"
   ]
  },
  {
   "cell_type": "code",
   "execution_count": 2,
   "metadata": {},
   "outputs": [
    {
     "name": "stdout",
     "output_type": "stream",
     "text": [
      "(2127, 29422)\n"
     ]
    }
   ],
   "source": [
    "df = pd.read_csv('bbc.csv')\n",
    "\n",
    "vectorizer = TfidfVectorizer()\n",
    "ds = vectorizer.fit_transform(df['content']).todense()\n",
    "classes = df['label'].to_numpy()\n",
    "\n",
    "idx = np.random.permutation(len(classes))\n",
    "ds = ds[idx, :]\n",
    "labels = LabelEncoder().fit_transform(np.asarray(classes))[idx]\n",
    "n_train = int(len(labels) * 0.7)\n",
    "\n",
    "print(ds.shape)\n",
    "\n",
    "X_train = torch.from_numpy(ds[:n_train, :])\n",
    "y_train = torch.from_numpy(labels[:n_train])\n",
    "X_test = torch.from_numpy(ds[n_train:, :])\n",
    "y_test = torch.from_numpy(labels[n_train:])\n",
    "\n",
    "if torch.cuda.is_available():\n",
    "    X_train = X_train.cuda()\n",
    "    y_train = y_train.cuda()\n",
    "    X_test = X_test.cuda()\n",
    "    y_test = y_test.cuda()"
   ]
  },
  {
   "cell_type": "code",
   "execution_count": 3,
   "metadata": {},
   "outputs": [],
   "source": [
    "similarity_based = False\n",
    "batch_size = 64\n",
    "n_clusters = 5"
   ]
  },
  {
   "cell_type": "code",
   "execution_count": 4,
   "metadata": {},
   "outputs": [],
   "source": [
    "dataset = KMeansDataset(X_train, similarity_based=similarity_based)\n",
    "dataloader = DataLoader(dataset, batch_size=batch_size, num_workers=0, shuffle=True)"
   ]
  },
  {
   "cell_type": "markdown",
   "metadata": {},
   "source": [
    "<h3>3. K-Means</h3>"
   ]
  },
  {
   "cell_type": "code",
   "execution_count": 5,
   "metadata": {
    "scrolled": true
   },
   "outputs": [
    {
     "name": "stdout",
     "output_type": "stream",
     "text": [
      "Clustering finished in 4.41 seconds.\n",
      "[Supervised   Performance] Test Accuracy: 65.73 %\n"
     ]
    }
   ],
   "source": [
    "start = time.time()\n",
    "km = KMeans(n_clusters=n_clusters, n_init=1, init='random', similarity_based=similarity_based)\n",
    "km.fit(X_train)\n",
    "labels = km.transform(X_test)\n",
    "km_time = time.time() - start\n",
    "acc = purity(y_test, labels) * 100\n",
    "\n",
    "print(\"Clustering finished in {:.3} seconds.\".format(km_time))\n",
    "print(\"[Supervised   Performance] Test Accuracy: {:.2f} %\".format(acc))"
   ]
  },
  {
   "cell_type": "markdown",
   "metadata": {},
   "source": [
    "<h3>4. Mini-Batch K-Means</h3>"
   ]
  },
  {
   "cell_type": "code",
   "execution_count": 6,
   "metadata": {
    "scrolled": true
   },
   "outputs": [
    {
     "name": "stdout",
     "output_type": "stream",
     "text": [
      "Clustering finished in 45.6 seconds.\n",
      "[Supervised   Performance] Test Accuracy: 84.66 %\n"
     ]
    }
   ],
   "source": [
    "start = time.time()\n",
    "km = MiniBatchKMeans(n_clusters=n_clusters, n_init=1, init='random', similarity_based=similarity_based)\n",
    "km.fit(dataloader)\n",
    "labels = km.transform_tensor(X_test)\n",
    "km_time = time.time() - start\n",
    "acc = purity(y_test, labels) * 100\n",
    "\n",
    "print(\"Clustering finished in {:.3} seconds.\".format(km_time))\n",
    "print(\"[Supervised   Performance] Test Accuracy: {:.2f} %\".format(acc))"
   ]
  }
 ],
 "metadata": {
  "kernelspec": {
   "display_name": "Python 3",
   "language": "python",
   "name": "python3"
  },
  "language_info": {
   "codemirror_mode": {
    "name": "ipython",
    "version": 3
   },
   "file_extension": ".py",
   "mimetype": "text/x-python",
   "name": "python",
   "nbconvert_exporter": "python",
   "pygments_lexer": "ipython3",
   "version": "3.8.5"
  }
 },
 "nbformat": 4,
 "nbformat_minor": 2
}
