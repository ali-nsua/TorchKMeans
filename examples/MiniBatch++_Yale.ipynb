{
 "cells": [
  {
   "cell_type": "markdown",
   "metadata": {},
   "source": [
    "<h3>1. Import dependencies</h3>"
   ]
  },
  {
   "cell_type": "code",
   "execution_count": 1,
   "metadata": {},
   "outputs": [],
   "source": [
    "import pandas as pd\n",
    "import numpy as np\n",
    "import torch\n",
    "from torch.utils.data import DataLoader\n",
    "import time\n",
    "\n",
    "from utils.scores import purity_score as purity\n",
    "\n",
    "from src import KMeans, MiniBatchKMeans, KMeansDataset\n",
    "\n",
    "from sklearn.feature_extraction.text import TfidfVectorizer"
   ]
  },
  {
   "cell_type": "markdown",
   "metadata": {},
   "source": [
    "<h3>2. Import data</h3>"
   ]
  },
  {
   "cell_type": "code",
   "execution_count": 2,
   "metadata": {},
   "outputs": [],
   "source": [
    "#X, Y = load_yale()\n",
    "\n",
    "X = torch.from_numpy(X)\n",
    "Y = torch.from_numpy(Y)\n",
    "\n",
    "if torch.cuda.is_available():\n",
    "    X = X.cuda()\n",
    "    Y = Y.cuda()"
   ]
  },
  {
   "cell_type": "code",
   "execution_count": 3,
   "metadata": {},
   "outputs": [],
   "source": [
    "similarity_based = True\n",
    "batch_size = 16\n",
    "n_clusters = 15"
   ]
  },
  {
   "cell_type": "code",
   "execution_count": 4,
   "metadata": {},
   "outputs": [],
   "source": [
    "dataset = KMeansDataset(X, similarity_based=similarity_based)\n",
    "dataloader = DataLoader(dataset, batch_size=batch_size, num_workers=0, shuffle=True)"
   ]
  },
  {
   "cell_type": "markdown",
   "metadata": {},
   "source": [
    "<h3>3. Mini-Batch K-Means</h3>"
   ]
  },
  {
   "cell_type": "code",
   "execution_count": 5,
   "metadata": {
    "scrolled": true
   },
   "outputs": [
    {
     "name": "stdout",
     "output_type": "stream",
     "text": [
      "Clustering finished in 2.15 seconds.\n",
      "[Supervised   Performance] Test Accuracy: 73.33 %\n"
     ]
    }
   ],
   "source": [
    "start = time.time()\n",
    "km = MiniBatchKMeans(n_clusters=n_clusters, n_init=1, init='random', similarity_based=similarity_based)\n",
    "km.fit(dataloader)\n",
    "labels = km.transform_tensor(X)\n",
    "km_time = time.time() - start\n",
    "acc = purity(Y, labels) * 100\n",
    "\n",
    "print(\"Clustering finished in {:.3} seconds.\".format(km_time))\n",
    "print(\"[Supervised   Performance] Test Accuracy: {:.2f} %\".format(acc))"
   ]
  },
  {
   "cell_type": "markdown",
   "metadata": {},
   "source": [
    "<h3>4. Mini-Batch K-Means++</h3>"
   ]
  },
  {
   "cell_type": "code",
   "execution_count": 6,
   "metadata": {
    "scrolled": true
   },
   "outputs": [
    {
     "name": "stdout",
     "output_type": "stream",
     "text": [
      "Clustering finished in 2.14 seconds.\n",
      "[Supervised   Performance] Test Accuracy: 86.67 %\n"
     ]
    }
   ],
   "source": [
    "start = time.time()\n",
    "km = MiniBatchKMeans(n_clusters=n_clusters, n_init=1, init='k-means++', similarity_based=similarity_based)\n",
    "km.fit(dataloader)\n",
    "labels = km.transform_tensor(X)\n",
    "km_time = time.time() - start\n",
    "acc = purity(Y, labels) * 100\n",
    "\n",
    "print(\"Clustering finished in {:.3} seconds.\".format(km_time))\n",
    "print(\"[Supervised   Performance] Test Accuracy: {:.2f} %\".format(acc))"
   ]
  }
 ],
 "metadata": {
  "kernelspec": {
   "display_name": "Python 3",
   "language": "python",
   "name": "python3"
  },
  "language_info": {
   "codemirror_mode": {
    "name": "ipython",
    "version": 3
   },
   "file_extension": ".py",
   "mimetype": "text/x-python",
   "name": "python",
   "nbconvert_exporter": "python",
   "pygments_lexer": "ipython3",
   "version": "3.8.5"
  }
 },
 "nbformat": 4,
 "nbformat_minor": 2
}
